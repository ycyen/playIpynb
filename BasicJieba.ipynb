{
 "cells": [
  {
   "cell_type": "markdown",
   "metadata": {},
   "source": [
    "# Basic Example of Full mode"
   ]
  },
  {
   "cell_type": "code",
   "execution_count": 28,
   "metadata": {},
   "outputs": [
    {
     "name": "stdout",
     "output_type": "stream",
     "text": [
      "Full Mode: 我/ 来到/ 北京/ 清华/ 清华大学/ 华大/ 大学\n"
     ]
    }
   ],
   "source": [
    "# encoding=utf-8\n",
    "import jieba\n",
    "\n",
    "seg_list = jieba.cut(\"我来到北京清华大学\", cut_all=True)\n",
    "print(\"Full Mode: \" + \"/ \".join(seg_list))  # 全模式"
   ]
  },
  {
   "cell_type": "code",
   "execution_count": 3,
   "metadata": {},
   "outputs": [
    {
     "name": "stdout",
     "output_type": "stream",
     "text": [
      "Full Mode: 我/ 来到/ 北京/ 清华大学\n"
     ]
    }
   ],
   "source": [
    "seg_list = jieba.cut(\"我来到北京清华大学\", cut_all=False)\n",
    "print(\"Full Mode: \" + \"/ \".join(seg_list))  # 全模式"
   ]
  },
  {
   "cell_type": "markdown",
   "metadata": {},
   "source": [
    "# Chinese lyrics segmentation\n",
    "## With dict.txt.big dictionary"
   ]
  },
  {
   "cell_type": "code",
   "execution_count": 52,
   "metadata": {},
   "outputs": [
    {
     "name": "stdout",
     "output_type": "stream",
     "text": [
      "我不是一定要你回來\n",
      "只是當又一個人看海\n",
      "回頭才發現你不在\n",
      "留下我迂迴的徘徊\n",
      "\n",
      "我不是一定要你回來\n",
      "只是當又把回憶翻開\n",
      "除了你之外的空白\n",
      "還有誰能來教我愛\n"
     ]
    }
   ],
   "source": [
    "#encoding=utf-8\n",
    "\n",
    "jieba.set_dictionary('./jieba_dict/dict.txt.big')\n",
    "\n",
    "content = open('./corpus/lyric1.txt', 'r').read()\n",
    "\n",
    "print(content)"
   ]
  },
  {
   "cell_type": "code",
   "execution_count": 53,
   "metadata": {},
   "outputs": [
    {
     "name": "stderr",
     "output_type": "stream",
     "text": [
      "Building prefix dict from /Users/mark_mac/playWithIpynb/jieba_dict/dict.txt.big ...\n",
      "Dumping model to file cache /var/folders/kr/zq0hjrd157qdsq3sfbq61r5m0000gn/T/jieba.u09ab8190bbd1e7d9d4e2bc702f867af5.cache\n",
      "Loading model cost 3.017 seconds.\n",
      "Prefix dict has been built succesfully.\n"
     ]
    },
    {
     "name": "stdout",
     "output_type": "stream",
     "text": [
      "我 不是 一定 要 你 回來 \n",
      " 只是 當又 一個 人 看海 \n",
      " 回頭 才 發現 你 不在 \n",
      " 留下 我 迂迴 的 徘徊 \n",
      " \n",
      " 我 不是 一定 要 你 回來 \n",
      " 只是 當又把 回憶 翻開 \n",
      " 除了 你 之外 的 空白 \n",
      " 還有 誰 能來 教 我 愛\n"
     ]
    }
   ],
   "source": [
    "seg_list = jieba.cut(content)\n",
    "\n",
    "print(\" \".join(seg_list))"
   ]
  },
  {
   "cell_type": "markdown",
   "metadata": {},
   "source": [
    "## extract tags with TFIDF"
   ]
  },
  {
   "cell_type": "code",
   "execution_count": 45,
   "metadata": {},
   "outputs": [
    {
     "name": "stdout",
     "output_type": "stream",
     "text": [
      "回來, 能來, 還有, 當又, 一個, 翻開, 不在, 回憶, 迂迴, 發現\n"
     ]
    }
   ],
   "source": [
    "import jieba.analyse\n",
    "\n",
    "tags = jieba.analyse.extract_tags(content, 10)\n",
    "\n",
    "print(\", \".join(tags))"
   ]
  },
  {
   "cell_type": "markdown",
   "metadata": {},
   "source": [
    "### with weights of tags"
   ]
  },
  {
   "cell_type": "code",
   "execution_count": 46,
   "metadata": {},
   "outputs": [
    {
     "name": "stdout",
     "output_type": "stream",
     "text": [
      "回來,9563\n",
      "能來,4781\n",
      "還有,4781\n",
      "當又,4781\n",
      "一個,4781\n",
      "翻開,4781\n",
      "不在,4781\n",
      "回憶,4781\n",
      "迂迴,4781\n",
      "發現,4781\n"
     ]
    }
   ],
   "source": [
    "tags = jieba.analyse.extract_tags(content, 10, withWeight=True)\n",
    "\n",
    "for tag, weight in tags:\n",
    "    print(tag + \",\" + str(int(weight * 10000)))"
   ]
  },
  {
   "cell_type": "code",
   "execution_count": null,
   "metadata": {},
   "outputs": [],
   "source": []
  }
 ],
 "metadata": {
  "kernelspec": {
   "display_name": "Python 2",
   "language": "python",
   "name": "python2"
  },
  "language_info": {
   "codemirror_mode": {
    "name": "ipython",
    "version": 2
   },
   "file_extension": ".py",
   "mimetype": "text/x-python",
   "name": "python",
   "nbconvert_exporter": "python",
   "pygments_lexer": "ipython2",
   "version": "2.7.12"
  }
 },
 "nbformat": 4,
 "nbformat_minor": 2
}

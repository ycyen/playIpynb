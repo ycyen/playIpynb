{
 "cells": [
  {
   "cell_type": "markdown",
   "metadata": {},
   "source": [
    "# IR method experiment"
   ]
  },
  {
   "cell_type": "markdown",
   "metadata": {},
   "source": [
    "## 目前全部的問題集（共 12 題）"
   ]
  },
  {
   "cell_type": "code",
   "execution_count": 1,
   "metadata": {},
   "outputs": [
    {
     "name": "stdout",
     "output_type": "stream",
     "text": [
      "1. 拿到入學許可後，後續簽證的流程為？\n",
      "2. 學校附近的住宿相關資訊有哪些呢？\n",
      "3. 學校附近有什麼地方不建議住的嗎？\n",
      "4. 學校附近的租金價位？\n",
      "5. 住宿通常什麼時候要開始找？\n",
      "6. 住宿的約通常一次簽多久？\n",
      "7. 住宿簽約時會需要付什麼錢呢？\n",
      "8. 各地住宿的治安如何？\n",
      "9. 水電瓦斯費的範圍？\n",
      "10. 網路要怎麼申裝？\n",
      "11. 飛到西雅圖後入境的流程？\n",
      "12. 如何用台灣駕照換發西雅圖駕照？\n"
     ]
    }
   ],
   "source": [
    "import jieba\n",
    "import jieba.analyse\n",
    "jieba.set_dictionary('./jieba_dict/dict.txt.big')\n",
    "\n",
    "questions = open('./corpus/questions.txt').read()\n",
    "\n",
    "questions = questions.split('\\n')\n",
    "\n",
    "for i in range(len(questions)):\n",
    "    print(str(i + 1) + \". \" + questions[i])\n"
   ]
  },
  {
   "cell_type": "markdown",
   "metadata": {},
   "source": [
    "### 第一句為範例，利用 jieba 做 TFIDF 斷詞後，計算每個詞的 weight"
   ]
  },
  {
   "cell_type": "markdown",
   "metadata": {},
   "source": [
    "* 斷詞後的結果"
   ]
  },
  {
   "cell_type": "code",
   "execution_count": 14,
   "metadata": {},
   "outputs": [
    {
     "name": "stdout",
     "output_type": "stream",
     "text": [
      "拿到,入學,許可,後,，,後續,簽證,的,流程,為,？\n"
     ]
    }
   ],
   "source": [
    "seg = jieba.cut(questions[0])\n",
    "\n",
    "print(\",\".join(seg))"
   ]
  },
  {
   "cell_type": "markdown",
   "metadata": {},
   "source": [
    "* 去掉 stopwords（後、的、為、，、？），每個詞在句中 weight"
   ]
  },
  {
   "cell_type": "code",
   "execution_count": 3,
   "metadata": {},
   "outputs": [
    {
     "name": "stdout",
     "output_type": "stream",
     "text": [
      "入學: 1.99246125048\n",
      "簽證: 1.99246125048\n",
      "後續: 1.99246125048\n",
      "許可: 1.99246125048\n",
      "流程: 1.29418546015\n",
      "拿到: 1.1937541929\n"
     ]
    }
   ],
   "source": [
    "tags = jieba.analyse.extract_tags(questions[0], topK=50, withWeight=True)\n",
    "\n",
    "for tag, weight in tags:\n",
    "    print(tag + \": \" + str(weight))"
   ]
  },
  {
   "cell_type": "markdown",
   "metadata": {},
   "source": [
    "### 把問題集中剩下的問題都計算出一個詞對應到weight的dictionary"
   ]
  },
  {
   "cell_type": "code",
   "execution_count": 4,
   "metadata": {},
   "outputs": [],
   "source": [
    "tag_dict = {}\n",
    "top10_dic = {}\n",
    "\n",
    "for i in range(len(questions)):\n",
    "    tags = jieba.analyse.extract_tags(questions[i], topK=50, withWeight=True)\n",
    "    \n",
    "    tag_dic = {}\n",
    "    for (x, w) in tags:\n",
    "        tag_dic[x] = w\n",
    "    \n",
    "    top10_dic[i] = tag_dic"
   ]
  },
  {
   "cell_type": "markdown",
   "metadata": {},
   "source": [
    "## 以 \"想請問錄取後要如何辦赴美簽證？\" 為例，查詢問題集中相似的問題"
   ]
  },
  {
   "cell_type": "code",
   "execution_count": 5,
   "metadata": {},
   "outputs": [],
   "source": [
    "query = \"想請問錄取後要如何辦赴美簽證？\""
   ]
  },
  {
   "cell_type": "markdown",
   "metadata": {},
   "source": [
    "### 將測試句斷詞，並算出斷詞後的weight"
   ]
  },
  {
   "cell_type": "code",
   "execution_count": 6,
   "metadata": {},
   "outputs": [
    {
     "name": "stdout",
     "output_type": "stream",
     "text": [
      "錄取 2.39095350058\n",
      "請問 2.39095350058\n",
      "簽證 2.39095350058\n",
      "赴美 1.82431083177\n",
      "如何 0.955309795364\n"
     ]
    }
   ],
   "source": [
    "tags = jieba.analyse.extract_tags(query, topK=50, withWeight=True)\n",
    "query_list = []\n",
    "for x, w in tags:\n",
    "    print('%s %s' % (x, w))\n",
    "    query_list = query_list + [(x, w)]"
   ]
  },
  {
   "cell_type": "markdown",
   "metadata": {},
   "source": [
    "### 計算 測試句 和 問題集 中 每個句子的平方差"
   ]
  },
  {
   "cell_type": "code",
   "execution_count": 10,
   "metadata": {},
   "outputs": [
    {
     "name": "stdout",
     "output_type": "stream",
     "text": [
      "Square Error: 15.83 -> 拿到入學許可後，後續簽證的流程為？\n",
      "Square Error: 20.50 -> 如何用台灣駕照換發西雅圖駕照？\n",
      "Square Error: 20.54 -> 各地住宿的治安如何？\n",
      "Square Error: 21.39 -> 學校附近的住宿相關資訊有哪些呢？\n",
      "Square Error: 21.39 -> 學校附近有什麼地方不建議住的嗎？\n",
      "Square Error: 21.39 -> 學校附近的租金價位？\n",
      "Square Error: 21.39 -> 住宿通常什麼時候要開始找？\n",
      "Square Error: 21.39 -> 住宿的約通常一次簽多久？\n",
      "Square Error: 21.39 -> 住宿簽約時會需要付什麼錢呢？\n",
      "Square Error: 21.39 -> 水電瓦斯費的範圍？\n",
      "Square Error: 21.39 -> 網路要怎麼申裝？\n",
      "Square Error: 21.39 -> 飛到西雅圖後入境的流程？\n"
     ]
    }
   ],
   "source": [
    "minimum_file_name = \"\"\n",
    "minimum_error = float('inf')\n",
    "term_dic = {}\n",
    "error_dic = {}\n",
    "for i in top10_dic:\n",
    "    error = 0.0\n",
    "    tags = top10_dic[i]\n",
    "    temp_dic = {}\n",
    "    for j in range(len(query_list)):\n",
    "        k = query_list[j]\n",
    "        if k[0] in tags:\n",
    "            error += (k[1] - tags[k[0]])**2\n",
    "            temp_dic[k[0]] = tags[k[0]]\n",
    "        else:\n",
    "            error += k[1]**2\n",
    "    \n",
    "    error_dic[i] = error\n",
    "    \n",
    "    if error < minimum_error:\n",
    "        minimum_error = error\n",
    "        minimum_file_name = i\n",
    "        term_dic = temp_dic\n",
    "        \n",
    "for i in sorted(error_dic, key=error_dic.get):\n",
    "    print(\"Square Error: {:.2f} -> {}\".format(error_dic[i], questions[i]))\n"
   ]
  },
  {
   "cell_type": "markdown",
   "metadata": {},
   "source": [
    "### 選出 error 最小的句子作為最後的結果"
   ]
  },
  {
   "cell_type": "code",
   "execution_count": 13,
   "metadata": {},
   "outputs": [
    {
     "name": "stdout",
     "output_type": "stream",
     "text": [
      "Input : 想請問錄取後要如何辦赴美簽證？\n",
      "\n",
      "Output: 拿到入學許可後，後續簽證的流程為？\n"
     ]
    }
   ],
   "source": [
    "print('Input : ' + query + '\\n')\n",
    "\n",
    "print('Output: ' + questions[minimum_file_name])"
   ]
  }
 ],
 "metadata": {
  "kernelspec": {
   "display_name": "Python 2",
   "language": "python",
   "name": "python2"
  },
  "language_info": {
   "codemirror_mode": {
    "name": "ipython",
    "version": 2
   },
   "file_extension": ".py",
   "mimetype": "text/x-python",
   "name": "python",
   "nbconvert_exporter": "python",
   "pygments_lexer": "ipython2",
   "version": "2.7.12"
  }
 },
 "nbformat": 4,
 "nbformat_minor": 2
}

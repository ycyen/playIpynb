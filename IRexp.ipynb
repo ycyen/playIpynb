{
 "cells": [
  {
   "cell_type": "markdown",
   "metadata": {},
   "source": [
    "# Query matching with retrieval method \n",
    "---"
   ]
  },
  {
   "cell_type": "markdown",
   "metadata": {},
   "source": [
    "### Load questions from the QA data set."
   ]
  },
  {
   "cell_type": "code",
   "execution_count": 1,
   "metadata": {},
   "outputs": [
    {
     "name": "stdout",
     "output_type": "stream",
     "text": [
      " 0. 拿到入學許可後，後續簽證的流程為？\n",
      " 1. 學校附近的住宿相關資訊有哪些呢？\n",
      " 2. 學校附近有什麼地方不建議住的嗎？\n",
      " 3. 學校附近的租金價位？\n",
      " 4. 住宿通常什麼時候要開始找？\n",
      " 5. 住宿的約通常一次簽多久？\n",
      " 6. 住宿簽約時會需要付什麼錢呢？\n",
      " 7. 各地住宿的治安如何？\n",
      " 8. 水電瓦斯費的範圍？\n",
      " 9. 網路要怎麼申裝？\n",
      "10. 飛到西雅圖後入境的流程？\n",
      "11. 如何用台灣駕照換發西雅圖駕照？\n"
     ]
    }
   ],
   "source": [
    "import jieba\n",
    "import jieba.analyse\n",
    "jieba.set_dictionary('./jieba_dict/dict.txt.big')\n",
    "\n",
    "questions = open('./corpus/questions.txt').read().split('\\n')\n",
    "\n",
    "for i, q in enumerate(questions):\n",
    "    print('{:2}. {}'.format(i, q))"
   ]
  },
  {
   "cell_type": "markdown",
   "metadata": {},
   "source": [
    "### Covert questions to hash maps with words as keys and weights as values.\n",
    "###### Take question 1 as example."
   ]
  },
  {
   "cell_type": "code",
   "execution_count": 8,
   "metadata": {},
   "outputs": [
    {
     "name": "stdout",
     "output_type": "stream",
     "text": [
      "拿到,入學,許可,後,，,後續,簽證,的,流程,為,？\n"
     ]
    }
   ],
   "source": [
    "seg = jieba.cut(questions[0])\n",
    "\n",
    "print(\",\".join(seg))"
   ]
  },
  {
   "cell_type": "code",
   "execution_count": 3,
   "metadata": {
    "scrolled": true
   },
   "outputs": [
    {
     "name": "stdout",
     "output_type": "stream",
     "text": [
      "入學: 1.99246125048\n",
      "簽證: 1.99246125048\n",
      "後續: 1.99246125048\n",
      "許可: 1.99246125048\n",
      "流程: 1.29418546015\n",
      "拿到: 1.1937541929\n"
     ]
    }
   ],
   "source": [
    "tags = jieba.analyse.extract_tags(questions[0], topK=50, withWeight=True)\n",
    "\n",
    "for tag, weight in tags:\n",
    "    print(tag + \": \" + str(weight))"
   ]
  },
  {
   "cell_type": "code",
   "execution_count": 4,
   "metadata": {},
   "outputs": [],
   "source": [
    "tag_dic = {}\n",
    "hash_maps = {}\n",
    "\n",
    "for i in range(len(questions)):\n",
    "    tags = jieba.analyse.extract_tags(questions[i], topK=50, withWeight=True)\n",
    "    \n",
    "    tag_dic = {}\n",
    "    for (x, w) in tags:\n",
    "        tag_dic[x] = w\n",
    "    \n",
    "    hash_maps[i] = tag_dic"
   ]
  },
  {
   "cell_type": "markdown",
   "metadata": {},
   "source": [
    "### Convert a sample query into a hash map"
   ]
  },
  {
   "cell_type": "code",
   "execution_count": 5,
   "metadata": {},
   "outputs": [
    {
     "name": "stdout",
     "output_type": "stream",
     "text": [
      "錄取 2.39095350058\n",
      "請問 2.39095350058\n",
      "簽證 2.39095350058\n",
      "赴美 1.82431083177\n",
      "如何 0.955309795364\n"
     ]
    }
   ],
   "source": [
    "query = \"想請問錄取後要如何辦赴美簽證？\"\n",
    "\n",
    "tags = jieba.analyse.extract_tags(query, topK=50, withWeight=True)\n",
    "query_list = []\n",
    "for x, w in tags:\n",
    "    print(u'{} {}'.format(x, w))\n",
    "    query_list = query_list + [(x, w)]"
   ]
  },
  {
   "cell_type": "markdown",
   "metadata": {},
   "source": [
    "### Calcuate square errors btw the query and each question in the data set."
   ]
  },
  {
   "cell_type": "code",
   "execution_count": 6,
   "metadata": {},
   "outputs": [
    {
     "name": "stdout",
     "output_type": "stream",
     "text": [
      "Square Error: 15.83 -> 拿到入學許可後，後續簽證的流程為？\n",
      "Square Error: 20.50 -> 如何用台灣駕照換發西雅圖駕照？\n",
      "Square Error: 20.54 -> 各地住宿的治安如何？\n",
      "Square Error: 21.39 -> 學校附近的住宿相關資訊有哪些呢？\n",
      "Square Error: 21.39 -> 學校附近有什麼地方不建議住的嗎？\n",
      "Square Error: 21.39 -> 學校附近的租金價位？\n",
      "Square Error: 21.39 -> 住宿通常什麼時候要開始找？\n",
      "Square Error: 21.39 -> 住宿的約通常一次簽多久？\n",
      "Square Error: 21.39 -> 住宿簽約時會需要付什麼錢呢？\n",
      "Square Error: 21.39 -> 水電瓦斯費的範圍？\n",
      "Square Error: 21.39 -> 網路要怎麼申裝？\n",
      "Square Error: 21.39 -> 飛到西雅圖後入境的流程？\n"
     ]
    }
   ],
   "source": [
    "minimum_file_name = \"\"\n",
    "minimum_error = float('inf')\n",
    "term_dic = {}\n",
    "error_dic = {}\n",
    "for i in hash_maps:\n",
    "    error = 0.0\n",
    "    tags = hash_maps[i]\n",
    "    temp_dic = {}\n",
    "    for j in range(len(query_list)):\n",
    "        k = query_list[j]\n",
    "        if k[0] in tags:\n",
    "            error += (k[1] - tags[k[0]])**2\n",
    "            temp_dic[k[0]] = tags[k[0]]\n",
    "        else:\n",
    "            error += k[1]**2\n",
    "    \n",
    "    error_dic[i] = error\n",
    "    \n",
    "    if error < minimum_error:\n",
    "        minimum_error = error\n",
    "        minimum_file_name = i\n",
    "        term_dic = temp_dic\n",
    "        \n",
    "for i in sorted(error_dic, key=error_dic.get):\n",
    "    print(\"Square Error: {:.2f} -> {}\".format(error_dic[i], questions[i]))\n"
   ]
  },
  {
   "cell_type": "markdown",
   "metadata": {},
   "source": [
    "### The question with the minimum square error is the output."
   ]
  },
  {
   "cell_type": "code",
   "execution_count": 7,
   "metadata": {},
   "outputs": [
    {
     "name": "stdout",
     "output_type": "stream",
     "text": [
      "Input : 想請問錄取後要如何辦赴美簽證？\n",
      "Output: 拿到入學許可後，後續簽證的流程為？\n"
     ]
    }
   ],
   "source": [
    "print('Input : ' + query)\n",
    "\n",
    "print('Output: ' + questions[minimum_file_name])"
   ]
  }
 ],
 "metadata": {
  "kernelspec": {
   "display_name": "Python 2",
   "language": "python",
   "name": "python2"
  },
  "language_info": {
   "codemirror_mode": {
    "name": "ipython",
    "version": 2
   },
   "file_extension": ".py",
   "mimetype": "text/x-python",
   "name": "python",
   "nbconvert_exporter": "python",
   "pygments_lexer": "ipython2",
   "version": "2.7.12"
  }
 },
 "nbformat": 4,
 "nbformat_minor": 2
}

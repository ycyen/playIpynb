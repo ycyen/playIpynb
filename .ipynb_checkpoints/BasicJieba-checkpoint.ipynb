{
 "cells": [
  {
   "cell_type": "markdown",
   "metadata": {},
   "source": [
    "# Basic Example of Full mode"
   ]
  },
  {
   "cell_type": "code",
   "execution_count": 1,
   "metadata": {},
   "outputs": [
    {
     "name": "stderr",
     "output_type": "stream",
     "text": [
      "Building prefix dict from the default dictionary ...\n",
      "Dumping model to file cache /var/folders/kr/zq0hjrd157qdsq3sfbq61r5m0000gn/T/jieba.cache\n",
      "Loading model cost 1.771 seconds.\n",
      "Prefix dict has been built succesfully.\n"
     ]
    },
    {
     "name": "stdout",
     "output_type": "stream",
     "text": [
      "Full Mode: 我/ 来到/ 北京/ 清华/ 清华大学/ 华大/ 大学\n"
     ]
    }
   ],
   "source": [
    "# encoding=utf-8\n",
    "import jieba\n",
    "\n",
    "seg_list = jieba.cut(\"我来到北京清华大学\", cut_all=True)\n",
    "print(\"Full Mode: \" + \"/ \".join(seg_list))  # 全模式"
   ]
  },
  {
   "cell_type": "code",
   "execution_count": 3,
   "metadata": {},
   "outputs": [
    {
     "name": "stdout",
     "output_type": "stream",
     "text": [
      "Full Mode: 我/ 来到/ 北京/ 清华大学\n"
     ]
    }
   ],
   "source": [
    "seg_list = jieba.cut(\"我来到北京清华大学\", cut_all=False)\n",
    "print(\"Full Mode: \" + \"/ \".join(seg_list))  # 全模式"
   ]
  },
  {
   "cell_type": "markdown",
   "metadata": {},
   "source": [
    "# “李聖傑 你們要快樂” 繁中斷詞\n",
    "## With 繁體中文字典"
   ]
  },
  {
   "cell_type": "code",
   "execution_count": 10,
   "metadata": {},
   "outputs": [
    {
     "name": "stdout",
     "output_type": "stream",
     "text": [
      "('Input\\xef\\xbc\\x9a', '\\xe5\\xa6\\xb3\\xe5\\x93\\xad\\xe8\\x91\\x97\\xe6\\x8b\\xbf\\xe4\\xb8\\x8b\\xe9\\x8a\\x80\\xe6\\x89\\x8b\\xe9\\x8d\\x8a\\xe9\\x82\\x84\\xe6\\x88\\x91\\xe7\\x9a\\x84\\xe6\\x99\\x82\\xe5\\x80\\x99\\n\\xe6\\x9c\\x80\\xe8\\xbf\\x91\\xe5\\xa6\\xb3\\xe8\\xba\\xb2\\xe6\\x88\\x91\\xe6\\x9c\\x89\\xe4\\xba\\x86\\xe7\\x90\\x86\\xe7\\x94\\xb1\\n\\xe5\\x88\\xa5\\xe8\\xaa\\xaa\\xe6\\x88\\x91\\xe7\\x9a\\x84\\xe6\\x84\\x9b\\xe8\\xae\\x93\\xe4\\xbd\\xa0\\xe6\\x85\\x9a\\xe6\\x84\\xa7\\xe4\\xb8\\x8d\\xe9\\x85\\x8d\\xe6\\x93\\x81\\xe6\\x9c\\x89\\n\\xe7\\x8f\\x8d\\xe6\\x83\\x9c\\xe4\\xb8\\x8d\\xe5\\xb0\\xb1\\xe6\\x98\\xaf\\xe6\\xba\\xab\\xe6\\x9f\\x94\\n\\xe4\\xbd\\x86\\xe5\\xa6\\xb3\\xe8\\xaa\\xaa\\xe6\\x8a\\xb1\\xe6\\xad\\x89\\xe6\\x84\\x9b\\xe4\\xb8\\x8a\\xe4\\xba\\x86\\xe6\\x88\\x91\\xe7\\x9a\\x84\\xe5\\xa5\\xbd\\xe6\\x9c\\x8b\\xe5\\x8f\\x8b\\n\\xe5\\x8e\\x9f\\xe4\\xbe\\x86\\xe5\\xbf\\x83\\xe9\\x85\\xb8\\xe6\\xaf\\x94\\xe5\\xbf\\x83\\xe7\\x97\\x9b\\xe9\\x9b\\xa3\\xe5\\x8f\\x97\\n\\xe8\\x8c\\xab\\xe7\\x84\\xb6\\xe7\\x9a\\x84\\xe8\\xb5\\xb0\\xe5\\x88\\xb0\\xe4\\xba\\x86\\xe9\\x96\\x80\\xe5\\x8f\\xa3\\xe5\\x80\\x94\\xe5\\xbc\\xb7\\xe9\\x82\\x84\\xe6\\x98\\xaf\\xe5\\xbf\\xb5\\xe8\\x88\\x8a\\n\\xe6\\x88\\x91\\xe8\\x81\\xbd\\xe8\\xa6\\x8b\\xe6\\x88\\x91\\xe5\\x9b\\x9e\\xe9\\xa0\\xad\\xe8\\xaa\\xaa \\n\\xe4\\xbd\\xa0\\xe5\\x80\\x91\\xe8\\xa6\\x81\\xe5\\xbf\\xab\\xe6\\xa8\\x82\\n\\xe8\\xa6\\x81\\xe5\\xa4\\xa9\\xe9\\x95\\xb7\\xe5\\x9c\\xb0\\xe4\\xb9\\x85\\n\\xe4\\xbd\\xa0\\xe5\\x80\\x91\\xe6\\xb2\\x92\\xe6\\x9c\\x89\\xe9\\x8c\\xaf\\n\\xe6\\x84\\x9b\\xe6\\x98\\xaf\\xe8\\x87\\xaa\\xe7\\x94\\xb1\\n\\xe8\\xb5\\xb0\\xe5\\x87\\xba\\xe9\\x80\\x99\\xe6\\x89\\x87\\xe9\\x96\\x80\\xe5\\xbe\\x8c\\n\\xe8\\x87\\xb3\\xe5\\xb0\\x91\\xe6\\x88\\x91\\xe9\\x82\\x84\\xe6\\x9c\\x89\\xe9\\x81\\xbc\\xe9\\x97\\x8a\\n\\xe4\\xbd\\xa0\\xe5\\x80\\x91\\xe8\\xa6\\x81\\xe5\\xbf\\xab\\xe6\\xa8\\x82\\n\\xe8\\xa6\\x81\\xe7\\xb7\\x8a\\xe7\\xb7\\x8a\\xe7\\x89\\xbd\\xe6\\x89\\x8b\\n\\xe4\\xbd\\xa0\\xe5\\x80\\x91\\xe4\\xb8\\x8d\\xe5\\xb9\\xb8\\xe7\\xa6\\x8f\\n\\xe6\\x88\\x91\\xe6\\x9c\\x83\\xe9\\x9b\\xa3\\xe9\\x81\\x8e\\n\\xe6\\x88\\x90\\xe5\\x85\\xa8\\xe6\\x9c\\x80\\xe6\\x84\\x9b\\xe7\\x9a\\x84\\xe4\\xba\\xba\\n\\xe4\\xb8\\x8d\\xe6\\x98\\xaf\\xe7\\x82\\xba\\xe4\\xba\\x86\\xe7\\x9c\\x8b\\xe8\\x91\\x97\\xe5\\xa5\\xb9\\xe5\\xaf\\x82\\xe5\\xaf\\x9e\\n\\xe9\\x81\\x8e\\xe5\\x8e\\xbb\\xe6\\x9b\\xbe\\xe8\\xae\\x93\\xe5\\xa6\\xb3\\xe7\\xac\\x91\\xe5\\xbe\\x97\\xe5\\xbe\\x88\\xe7\\x94\\x9c\\n\\xe4\\xb8\\x8d\\xe4\\xbb\\xa3\\xe8\\xa1\\xa8\\xe6\\x9c\\x89\\xe6\\xac\\x8a\\xe5\\x88\\xa9\\xe8\\xa6\\x81\\xe5\\xa6\\xb3\\xe7\\xb3\\xbe\\xe7\\xb5\\x90\\n\\xe9\\x9b\\x96\\xe7\\x84\\xb6\\xe9\\x81\\xba\\xe6\\x86\\xbe\\xe6\\x84\\x9b\\xe6\\x83\\x85\\xe4\\xb9\\x9f\\xe6\\x9c\\x89\\xe5\\xae\\x83\\xe7\\x9a\\x84\\xe5\\xad\\xa3\\xe7\\xaf\\x80\\n\\xe9\\xa2\\xa8\\xe4\\xb8\\x8d\\xe8\\x83\\xbd\\xe5\\x90\\xb9\\n\\xe5\\xb0\\xb1\\xe4\\xbd\\x9c\\xe6\\x9c\\x80\\xe7\\x80\\x9f\\xe7\\x81\\x91\\xe7\\x9a\\x84\\xe8\\x90\\xbd\\xe8\\x91\\x89')\n"
     ]
    }
   ],
   "source": [
    "#encoding=utf-8\n",
    "\n",
    "jieba.set_dictionary('dict.txt.big')\n",
    "\n",
    "content = open('lyrics.txt', 'r').read()\n",
    "\n",
    "print(\"Input：\", content)"
   ]
  },
  {
   "cell_type": "code",
   "execution_count": 5,
   "metadata": {},
   "outputs": [
    {
     "name": "stdout",
     "output_type": "stream",
     "text": [
      "妳,哭,著,拿下,銀手,鍊,還我,的,時候,　,最近,妳,躲,我,有,了,理由, ,別說,我,的,愛讓,你,慚愧,不配,擁有,　,珍惜,不,就是,溫柔, ,但,妳,說,抱歉,愛上,了,我,的,好,朋友,　,原來,心酸,比,心痛,難受, ,茫然,的,走,到,了,門口,倔強,還是,念,舊,　,我,聽,見,我,回頭,說, , ,你們,要,快樂,　,要,天長,地久,　,你們,沒,有,錯,　,愛是,自由,　,走出,這扇門,後,　,至少,我,還有,遼闊, ,你們,要,快樂,　,要,緊緊,牽手, ,　,你們,不,幸福,　,我會,難過,　,成全,最愛的,人,　,不是,為,了,看,著,她,寂寞, ,過去,曾,讓,妳,笑,得,很甜,　,不,代表,有,權利要,妳,糾結, ,雖然,遺憾,愛情,也,有,它,的,季節,　,風,不能,吹,　,就作,最瀟灑,的,落葉\n"
     ]
    }
   ],
   "source": [
    "seg_list = jieba.cut(lyrics)\n",
    "print(\",\".join(seg_list))"
   ]
  },
  {
   "cell_type": "code",
   "execution_count": null,
   "metadata": {},
   "outputs": [],
   "source": [
    "jieba.set_dictionary('dict.txt.big')"
   ]
  }
 ],
 "metadata": {
  "kernelspec": {
   "display_name": "Python 2",
   "language": "python",
   "name": "python2"
  },
  "language_info": {
   "codemirror_mode": {
    "name": "ipython",
    "version": 2
   },
   "file_extension": ".py",
   "mimetype": "text/x-python",
   "name": "python",
   "nbconvert_exporter": "python",
   "pygments_lexer": "ipython2",
   "version": "2.7.12"
  }
 },
 "nbformat": 4,
 "nbformat_minor": 2
}
